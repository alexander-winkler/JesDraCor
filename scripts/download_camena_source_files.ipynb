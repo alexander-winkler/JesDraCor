{
 "cells": [
  {
   "cell_type": "markdown",
   "metadata": {},
   "source": [
    "# Download Camena source files"
   ]
  },
  {
   "cell_type": "code",
   "execution_count": 1,
   "metadata": {},
   "outputs": [
    {
     "name": "stdout",
     "output_type": "stream",
     "text": [
      "camena_dramas.csv                  download_camena_source_files.ipynb\r\n"
     ]
    }
   ],
   "source": [
    "!ls"
   ]
  },
  {
   "cell_type": "code",
   "execution_count": 2,
   "metadata": {
    "collapsed": true
   },
   "outputs": [],
   "source": [
    "table_filename = \"camena_dramas.csv\""
   ]
  },
  {
   "cell_type": "code",
   "execution_count": 3,
   "metadata": {
    "collapsed": true
   },
   "outputs": [],
   "source": [
    "import csv"
   ]
  },
  {
   "cell_type": "code",
   "execution_count": 17,
   "metadata": {},
   "outputs": [],
   "source": [
    "#Get headings\n",
    "table_data_rows = []\n",
    "\n",
    "f = open(table_filename, \"r\")\n",
    "table_reader = csv.reader(f, delimiter=';')\n",
    "for row in table_reader:\n",
    "    # skip empty rows\n",
    "    if row[1] != \"\":\n",
    "        table_data_rows.append(row)\n",
    "f.close()"
   ]
  },
  {
   "cell_type": "code",
   "execution_count": 20,
   "metadata": {},
   "outputs": [
    {
     "data": {
      "text/plain": [
       "43"
      ]
     },
     "execution_count": 20,
     "metadata": {},
     "output_type": "execute_result"
    }
   ],
   "source": [
    "len(table_data_rows)"
   ]
  },
  {
   "cell_type": "code",
   "execution_count": 21,
   "metadata": {
    "collapsed": true
   },
   "outputs": [],
   "source": [
    "import requests"
   ]
  },
  {
   "cell_type": "code",
   "execution_count": 22,
   "metadata": {},
   "outputs": [
    {
     "name": "stdout",
     "output_type": "stream",
     "text": [
      "avancini-sosa-naufragus.xml\n",
      "avancini-pomum-theodosii.xml\n",
      "avancini-theodosius-magnus.xml\n",
      "avancini-c-marius.xml\n",
      "avancini-clodoaldus-daniae-princeps.xml\n",
      "avancini-joseph-a-fratribus-recognitus.xml\n",
      "avancini-zelus-sive-franciscus-xaverius-indiarum-apostolus.xml\n",
      "avancini-pietas-victrix-sive-fl-constantinus-magnus--victor.xml\n",
      "avancini-fides-coniugalis-sive-ansberta-sui-coniugis-bertulphi--liberatrix.xml\n",
      "avancini-fiducia-in-deum-sive-bethulia-liberata.xml\n",
      "avancini-dei-bonitas-de-humana-pertinacia-victrix-sive-alphonsus-decimus--rex--a-deo-emendatus.xml\n",
      "avancini-connubium-meriti-et-honoris-sive-evergetes-et-endoxa.xml\n",
      "avancini-tyrannis-idokerdi.xml\n",
      "avancini-hermenegildus.xml\n",
      "avancini-olaus-magnus.xml\n",
      "avancini-david.xml\n",
      "avancini-sidrach-misach-et-abdenago.xml\n",
      "avancini-artaxerxes.xml\n",
      "avancini-cyrus.xml\n",
      "avancini-canutus.xml\n",
      "avancini-s-idda.xml\n",
      "avancini-semiramis.xml\n",
      "avancini-alexius-comnenus.xml\n",
      "balde-jephtias.xml\n",
      "bidermann-belisarius.xml\n",
      "bidermann-cenodoxus.xml\n",
      "bidermann-cosmarchia.xml\n",
      "bidermann-josephus.xml\n",
      "bidermann-macarius-romanus.xml\n",
      "bidermann-philemon-martyr.xml\n",
      "bidermann-jacobus-usurarius.xml\n",
      "bidermann-joannes-calybita.xml\n",
      "bidermann-josaphatus-rex.xml\n",
      "bidermann-stertinius.xml\n",
      "masen-comoedia-historica-ollaria.xml\n",
      "masen-comoedia-historica-rusticus-imperans.xml\n",
      "masen-comoedia-fabulosa-bacchi-schola-eversa.xml\n",
      "masen-tragoedia-mauritius-orientis-imperator.xml\n",
      "masen-tragico-comoedia-historica-iosaphatus.xml\n",
      "masen-androphilus.xml\n",
      "masen-comico-tragoedia-parabolica-telesbius.xml\n",
      "pontanus-immolatio-isaac.xml\n",
      "pontanus-stratocles-sive-bellum.xml\n"
     ]
    }
   ],
   "source": [
    "for row in table_data_rows:\n",
    "    #dracor-slug\n",
    "    slug_part_author = row[0].split(\" \")[-1:][0].lower()\n",
    "    slug_part_title = row[2].replace(\" \",\"-\").replace(\".\",\"\").replace(\",\",\"\").lower()\n",
    "    \n",
    "    filename = slug_part_author + \"-\" + slug_part_title + \".xml\"\n",
    "    print(filename)\n",
    "    \n",
    "    #download\n",
    "    url = row[4]\n",
    "    r = requests.get(url, allow_redirects=True)\n",
    "    open(filename, 'wb').write(r.content)"
   ]
  },
  {
   "cell_type": "code",
   "execution_count": null,
   "metadata": {
    "collapsed": true
   },
   "outputs": [],
   "source": []
  }
 ],
 "metadata": {
  "kernelspec": {
   "display_name": "Python 3",
   "language": "python",
   "name": "python3"
  },
  "language_info": {
   "codemirror_mode": {
    "name": "ipython",
    "version": 3
   },
   "file_extension": ".py",
   "mimetype": "text/x-python",
   "name": "python",
   "nbconvert_exporter": "python",
   "pygments_lexer": "ipython3",
   "version": "3.6.11"
  }
 },
 "nbformat": 4,
 "nbformat_minor": 2
}
